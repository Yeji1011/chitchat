import numpy as np

num_label = 2
num_pred = 2

confusion_matrix = np.zeros((num_label, num_pred), dtype = "int32") 




cf_true_labels=[
    1,
1,
1,
1,
1,
1,
1,
1,
1,
0,
0,
0,
0,
0,
0,
0,
1,
1,
1,
1,
1,
1,
1,
1,
0,
0,
0,
0,
0,
0
]




cf_predicted_labels=[
1,
1,
0,
1,
1,
1,
0,
0,
1,
0,
0,
0,
0,
0,
0,
0,
1,
1,
0,
1,
1,
1,
1,
1,
0,
0,
0,
0,
0,
0
]




import numpy as np

num_label = 2
num_pred = 2

confusion_matrix = np.zeros((num_label, num_pred), dtype = "int32") #제로 에러이 생성
# print('target_pred_counting', target_pred_counting)
idx_to_chr = {0:'칫챗', 1:'넌칫챗'}
chr_to_idx = {'칫챗':0 , '넌칫챗':1}
for cf_label, cf_pred in zip(cf_true_labels, cf_predicted_labels):
    confusion_matrix[cf_label][cf_pred] +=1    
print(confusion_matrix)
# sum(confusion_matrix)    
# np.sum(confusion_matrix)

# 12 -> 칫챗인데 칫챗으로 맞춤
# 0 -> 칫챗인데 넌칫챗으로 틀림

# 3 -> 넌칫챗인데 칫챗으로 틀림
# 12 -> 넌칫챗인데 넌칫챗으로 맞춤



cf_matrix=confusion_matrix


import numpy as np
from numpy import linalg as LA
#노멀라이제이션
# 1. 혼동행렬(Array상태)의 가로방향별로 각 input별 합을 구한다
total=np.sum(cf_matrix, axis=1)
print('total', total) 



total[:, None]



print(cf_matrix,'\n')
print(total,'\n')

#re_matrix=cf_matrix/total
re_matrix = np.zeros((2,2))
re_matrix[0] = cf_matrix[0]/total[0]
re_matrix[1] = cf_matrix[1]/total[1]
print('re_matrix', re_matrix)




# 노멀라이제이션 히트맵그리기
import seaborn as sns
import pandas as pd

df_cm = pd.DataFrame(re_matrix, index=['Chitchat', 'Non-Chitchat'], columns=['Chitchat', 'Non-Chitchat'])
df_cm


import matplotlib.pyplot as plt

plt.figure(figsize=(8,6))
plt.title("Confusion Matrix for Chitchat-Classifier")
ax=sns.heatmap(df_cm,  fmt='.0%', cmap='Blues', annot=True,  annot_kws={"size": 14})
# ax.figure.axes[-1].yaxis.label.set_size(70)
plt.ylabel('True label')
plt.xlabel('Predicted label')
plt.xticks(fontsize =15)
plt.yticks(fontsize =15)
plt.setp(ax.get_xticklabels(), fontsize =12) #x축레이블
plt.setp(ax.get_yticklabels(), fontsize =12) #x축레이블


from sklearn.metrics import classification_report

target_names=['Chitchat', 'Non-chithat']
print(classification_report(cf_true_labels, cf_predicted_labels, target_names=target_names))






